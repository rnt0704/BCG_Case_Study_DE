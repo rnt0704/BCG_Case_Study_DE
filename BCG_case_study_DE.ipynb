{
 "cells": [
  {
   "cell_type": "code",
   "execution_count": 1,
   "id": "bd27e482",
   "metadata": {},
   "outputs": [],
   "source": [
    "from pyspark.sql import SparkSession, Window\n",
    "from pyspark.sql.functions import *\n",
    "from pyspark.sql import functions as F"
   ]
  },
  {
   "cell_type": "code",
   "execution_count": 2,
   "id": "ff25c835",
   "metadata": {},
   "outputs": [],
   "source": [
    "spark = SparkSession \\\n",
    "        .builder \\\n",
    "        .master(\"local\")\\\n",
    "        .appName(\"USAccidentAnalysis\") \\\n",
    "        .getOrCreate()"
   ]
  },
  {
   "cell_type": "code",
   "execution_count": 3,
   "id": "f038c67a",
   "metadata": {},
   "outputs": [],
   "source": [
    "df_charges = spark.read.csv(\"E:/Case_Study/Data/Charges_use.csv\", header=True)\n",
    "df_damages = spark.read.csv(\"E:/Case_Study/Data/Damages_use.csv\", header=True)\n",
    "df_endorse = spark.read.csv(\"E:/Case_Study/Data/Endorse_use.csv\", header=True)\n",
    "df_pp = spark.read.csv(\"E:/Case_Study/Data/Primary_Person_use.csv\", header=True)\n",
    "df_restrict = spark.read.csv(\"E:/Case_Study/Data/Restrict_use.csv\", header=True)\n",
    "df_Units = spark.read.csv(\"E:/Case_Study/Data/Units_use.csv\", header=True)"
   ]
  },
  {
   "cell_type": "code",
   "execution_count": 4,
   "id": "63c81d01",
   "metadata": {},
   "outputs": [
    {
     "data": {
      "text/plain": [
       "116110"
      ]
     },
     "execution_count": 4,
     "metadata": {},
     "output_type": "execute_result"
    }
   ],
   "source": [
    "df_charges.count()"
   ]
  },
  {
   "cell_type": "code",
   "execution_count": 5,
   "id": "ec93ba3f",
   "metadata": {},
   "outputs": [
    {
     "data": {
      "text/plain": [
       "[Row(CRASH_ID='14768622', UNIT_NBR='1', PRSN_NBR='1', CHARGE='DRIVING WHILE INTOXICATED', CITATION_NBR=None),\n",
       " Row(CRASH_ID='14838637', UNIT_NBR='1', PRSN_NBR='1', CHARGE='DWI', CITATION_NBR='1600000015'),\n",
       " Row(CRASH_ID='14838641', UNIT_NBR='1', PRSN_NBR='1', CHARGE='RAN RED LIGHT SOLID (TC 544.007)', CITATION_NBR='L20440'),\n",
       " Row(CRASH_ID='14838641', UNIT_NBR='2', PRSN_NBR='1', CHARGE=\"NO DRIVER'S LICENSE (TC521.025)\", CITATION_NBR='L23141'),\n",
       " Row(CRASH_ID='14838668', UNIT_NBR='1', PRSN_NBR='1', CHARGE='DRIVING WHILE INTOXICATED', CITATION_NBR='TX4IC50SRJD3')]"
      ]
     },
     "execution_count": 5,
     "metadata": {},
     "output_type": "execute_result"
    }
   ],
   "source": [
    "df_charges.head(5)"
   ]
  },
  {
   "cell_type": "code",
   "execution_count": 6,
   "id": "099de48e",
   "metadata": {},
   "outputs": [
    {
     "name": "stdout",
     "output_type": "stream",
     "text": [
      "+--------+--------+--------+----------------------------------------+------------+\n",
      "|CRASH_ID|UNIT_NBR|PRSN_NBR|CHARGE                                  |CITATION_NBR|\n",
      "+--------+--------+--------+----------------------------------------+------------+\n",
      "|14768622|1       |1       |DRIVING WHILE INTOXICATED               |NULL        |\n",
      "|14838637|1       |1       |DWI                                     |1600000015  |\n",
      "|14838641|1       |1       |RAN RED LIGHT SOLID (TC 544.007)        |L20440      |\n",
      "|14838641|2       |1       |NO DRIVER'S LICENSE (TC521.025)         |L23141      |\n",
      "|14838668|1       |1       |DRIVING WHILE INTOXICATED               |TX4IC50SRJD3|\n",
      "|14838669|2       |1       |DWI W/BAC >.015                         |2015-000006 |\n",
      "|14838670|1       |1       |DRIVING WHILE INTOXICATED               |2016-000003 |\n",
      "|14838685|1       |1       |FAILED TO DRIVE SINGLE LANE, NOL, NO INS|138434825   |\n",
      "|14838693|1       |1       |DRIVING WHILE INTOXICATED               |TX4IC60UKQND|\n",
      "|14838768|2       |1       |DWI                                     |NULL        |\n",
      "|14838834|1       |1       |NO DRIVERS LICENSE                      |10019200    |\n",
      "|14838834|1       |1       |FAIL TO CONTROL SPEED                   |10019200    |\n",
      "|14838834|1       |1       |LEAVING THE SCENE                       |10019200    |\n",
      "|14838841|1       |1       |FTLI   / DWLI                           |16-43861    |\n",
      "|14838841|1       |1       |LEAVING SCENE OF ACCIDENT               |16-43861    |\n",
      "|14838841|1       |1       |FAIL TO DRIVE IN SINGLE LANE            |16-43861    |\n",
      "|14838841|1       |1       |FAIL TO REPORT ACCIDENT                 |16-43861    |\n",
      "|14838842|1       |1       |LEAVING SCENE OF ACCIDENT               |16-43859    |\n",
      "|14838842|1       |1       |FAIL TO REPORT ACCIDENT                 |16-43859    |\n",
      "|14838842|1       |1       |FAIL TO DRIVE IN SINGLE LANE            |16-43859    |\n",
      "+--------+--------+--------+----------------------------------------+------------+\n",
      "only showing top 20 rows\n",
      "\n"
     ]
    }
   ],
   "source": [
    "df_charges.show(truncate=False)"
   ]
  },
  {
   "cell_type": "code",
   "execution_count": 7,
   "id": "7096c991",
   "metadata": {},
   "outputs": [
    {
     "data": {
      "text/plain": [
       "24950"
      ]
     },
     "execution_count": 7,
     "metadata": {},
     "output_type": "execute_result"
    }
   ],
   "source": [
    "df_damages.count()"
   ]
  },
  {
   "cell_type": "code",
   "execution_count": 8,
   "id": "54ab3f06",
   "metadata": {},
   "outputs": [
    {
     "name": "stdout",
     "output_type": "stream",
     "text": [
      "+--------+--------------------+\n",
      "|CRASH_ID|    DAMAGED_PROPERTY|\n",
      "+--------+--------------------+\n",
      "|14768622|             MAILBOX|\n",
      "|14768622|         YARD, GRASS|\n",
      "|14838668|           GUARDRAIL|\n",
      "|14838685|           ROAD SIGN|\n",
      "|14838693|        2009 MAZDA 3|\n",
      "|14838834|    CHAIN LINK FENCE|\n",
      "|14838841|WOODED POLE ON SO...|\n",
      "|14838842|CITY SIGN FOR TUR...|\n",
      "|14838877|    FENCE-CHAIN LINK|\n",
      "|14838977|LANDSCAPING AND M...|\n",
      "|14839047|  APARTMENT BUILDING|\n",
      "|14839047|         STREET SIGN|\n",
      "|14839048|               HOUSE|\n",
      "|14839314|          LIGHT POLE|\n",
      "|14839330|MINOR DAMAGE TO W...|\n",
      "|14839442|CITY OF SAN ANTON...|\n",
      "|14839472|         METAL POLES|\n",
      "|14839517|    WATER ATTENUATOR|\n",
      "|14839519|        UTILITY POST|\n",
      "|14839551|30 FEET OF GUARDRAIL|\n",
      "+--------+--------------------+\n",
      "only showing top 20 rows\n",
      "\n"
     ]
    }
   ],
   "source": [
    "df_damages.show()"
   ]
  },
  {
   "cell_type": "code",
   "execution_count": 9,
   "id": "53a7111a",
   "metadata": {},
   "outputs": [
    {
     "data": {
      "text/plain": [
       "159818"
      ]
     },
     "execution_count": 9,
     "metadata": {},
     "output_type": "execute_result"
    }
   ],
   "source": [
    "df_endorse.count()"
   ]
  },
  {
   "cell_type": "code",
   "execution_count": 10,
   "id": "c2cdaec3",
   "metadata": {},
   "outputs": [
    {
     "name": "stdout",
     "output_type": "stream",
     "text": [
      "+--------+--------+------------------+\n",
      "|CRASH_ID|UNIT_NBR|DRVR_LIC_ENDORS_ID|\n",
      "+--------+--------+------------------+\n",
      "|14768622|       1|              NONE|\n",
      "|14838637|       1|              NONE|\n",
      "|14838637|       2|              NONE|\n",
      "|14838641|       1|              NONE|\n",
      "|14838641|       2|        UNLICENSED|\n",
      "|14838668|       1|              NONE|\n",
      "|14838669|       1|              NONE|\n",
      "|14838669|       2|              NONE|\n",
      "|14838670|       1|              NONE|\n",
      "|14838685|       1|        UNLICENSED|\n",
      "|14838693|       1|              NONE|\n",
      "|14838768|       1|OTHER/OUT OF STATE|\n",
      "|14838768|       2|              NONE|\n",
      "|14838834|       1|           UNKNOWN|\n",
      "|14838841|       1|              NONE|\n",
      "|14838842|       1|              NONE|\n",
      "|14838842|       2|              NONE|\n",
      "|14838866|       1|              NONE|\n",
      "|14838877|       1|              NONE|\n",
      "|14838972|       1|              NONE|\n",
      "+--------+--------+------------------+\n",
      "only showing top 20 rows\n",
      "\n"
     ]
    }
   ],
   "source": [
    "df_endorse.show()"
   ]
  },
  {
   "cell_type": "code",
   "execution_count": 11,
   "id": "b4c095e5",
   "metadata": {},
   "outputs": [
    {
     "data": {
      "text/plain": [
       "156954"
      ]
     },
     "execution_count": 11,
     "metadata": {},
     "output_type": "execute_result"
    }
   ],
   "source": [
    "df_pp.count()"
   ]
  },
  {
   "cell_type": "code",
   "execution_count": 12,
   "id": "7c856f00",
   "metadata": {},
   "outputs": [
    {
     "name": "stdout",
     "output_type": "stream",
     "text": [
      "+--------+--------+--------+------------+------------------+--------------------+--------+-----------------+------------+------------+-------------------+-----------------+--------------+-----------+---------------------+----------------+------------------+---------------------+----------------+-----------------+---------------+---------------+------------------+--------------+-------------+--------------+-------------+---------+--------------------+-----------------+------------------+--------+\n",
      "|CRASH_ID|UNIT_NBR|PRSN_NBR|PRSN_TYPE_ID|PRSN_OCCPNT_POS_ID|   PRSN_INJRY_SEV_ID|PRSN_AGE|PRSN_ETHNICITY_ID|PRSN_GNDR_ID|PRSN_EJCT_ID|       PRSN_REST_ID|   PRSN_AIRBAG_ID|PRSN_HELMET_ID|PRSN_SOL_FL|PRSN_ALC_SPEC_TYPE_ID|PRSN_ALC_RSLT_ID|PRSN_BAC_TEST_RSLT|PRSN_DRG_SPEC_TYPE_ID|PRSN_DRG_RSLT_ID|DRVR_DRG_CAT_1_ID|PRSN_DEATH_TIME|INCAP_INJRY_CNT|NONINCAP_INJRY_CNT|POSS_INJRY_CNT|NON_INJRY_CNT|UNKN_INJRY_CNT|TOT_INJRY_CNT|DEATH_CNT|    DRVR_LIC_TYPE_ID|DRVR_LIC_STATE_ID|   DRVR_LIC_CLS_ID|DRVR_ZIP|\n",
      "+--------+--------+--------+------------+------------------+--------------------+--------+-----------------+------------+------------+-------------------+-----------------+--------------+-----------+---------------------+----------------+------------------+---------------------+----------------+-----------------+---------------+---------------+------------------+--------------+-------------+--------------+-------------+---------+--------------------+-----------------+------------------+--------+\n",
      "|14768622|       1|       1|      DRIVER|        FRONT LEFT|         NOT INJURED|      27|         HISPANIC|        MALE|          NO|               NONE|DEPLOYED MULTIPLE|NOT APPLICABLE|          N|                BLOOD|        Positive|             0.225|                 NONE|  NOT APPLICABLE|   NOT APPLICABLE|           NULL|              0|                 0|             0|            1|             0|            0|        0|      DRIVER LICENSE|            Texas|           CLASS C|   77357|\n",
      "|14838637|       1|       1|      DRIVER|        FRONT LEFT|         NOT INJURED|      31|            WHITE|        MALE|          NO|SHOULDER & LAP BELT|     NOT DEPLOYED|NOT APPLICABLE|          N|               BREATH|        Positive|              0.21|                 NONE|  NOT APPLICABLE|   NOT APPLICABLE|           NULL|              0|                 0|             0|            1|             0|            0|        0|      DRIVER LICENSE|         New York|OTHER/OUT OF STATE|   13830|\n",
      "|14838637|       2|       1|      DRIVER|        FRONT LEFT|         NOT INJURED|      41|            BLACK|        MALE|          NO|SHOULDER & LAP BELT|     NOT DEPLOYED|NOT APPLICABLE|          N|                 NONE|              NA|                NA|                 NONE|  NOT APPLICABLE|   NOT APPLICABLE|           NULL|              0|                 0|             0|            1|             0|            0|        0|COMMERCIAL DRIVER...|            Texas|           CLASS A|   78934|\n",
      "|14838641|       1|       1|      DRIVER|        FRONT LEFT|     POSSIBLE INJURY|      32|            WHITE|        MALE|          NO|SHOULDER & LAP BELT|DEPLOYED MULTIPLE|NOT APPLICABLE|          N|                 NONE|              NA|                NA|                 NONE|  NOT APPLICABLE|   NOT APPLICABLE|           NULL|              0|                 0|             1|            0|             0|            1|        0|      DRIVER LICENSE|            Texas|           CLASS C|   76520|\n",
      "|14838641|       2|       1|      DRIVER|        FRONT LEFT|NON-INCAPACITATIN...|      34|            BLACK|      FEMALE|          NO|SHOULDER & LAP BELT|DEPLOYED MULTIPLE|NOT APPLICABLE|          N|                 NONE|              NA|                NA|                 NONE|  NOT APPLICABLE|   NOT APPLICABLE|           NULL|              0|                 1|             0|            0|             0|            1|        0|             ID CARD|            Texas|        UNLICENSED|   76707|\n",
      "|14838668|       1|       1|      DRIVER|        FRONT LEFT|         NOT INJURED|      24|         HISPANIC|        MALE|          NO|SHOULDER & LAP BELT|  DEPLOYED, FRONT|NOT APPLICABLE|          N|               BREATH|        Positive|             0.178|                 NONE|  NOT APPLICABLE|   NOT APPLICABLE|           NULL|              0|                 0|             0|            1|             0|            0|        0|      DRIVER LICENSE|            Texas|           CLASS C|   78076|\n",
      "|14838669|       1|       1|      DRIVER|        FRONT LEFT|         NOT INJURED|      53|            WHITE|        MALE|          NO|SHOULDER & LAP BELT|     NOT DEPLOYED|NOT APPLICABLE|          N|                 NONE|              NA|                NA|                 NONE|  NOT APPLICABLE|   NOT APPLICABLE|           NULL|              0|                 0|             0|            1|             0|            0|        0|      DRIVER LICENSE|            Texas|           CLASS C|   76053|\n",
      "|14838669|       2|       1|      DRIVER|        FRONT LEFT|         NOT INJURED|      24|            WHITE|        MALE|          NO|            UNKNOWN|  DEPLOYED, FRONT|NOT APPLICABLE|          N|               BREATH|        Positive|             0.219|                 NONE|  NOT APPLICABLE|   NOT APPLICABLE|           NULL|              0|                 0|             0|            1|             0|            0|        0|      DRIVER LICENSE|            Texas|           CLASS C|   76118|\n",
      "|14838670|       1|       1|      DRIVER|        FRONT LEFT|         NOT INJURED|      23|            WHITE|        MALE|          NO|               NONE|     NOT DEPLOYED|NOT APPLICABLE|          N|                BLOOD|        Positive|              0.16|                BLOOD|         UNKNOWN|          UNKNOWN|           NULL|              0|                 0|             0|            1|             0|            0|        0|      DRIVER LICENSE|            Texas|           CLASS C|   75050|\n",
      "|14838685|       1|       1|      DRIVER|        FRONT LEFT|         NOT INJURED|      27|            BLACK|      FEMALE|          NO|SHOULDER & LAP BELT|     NOT DEPLOYED|NOT APPLICABLE|          N|                 NONE|              NA|                NA|                 NONE|  NOT APPLICABLE|   NOT APPLICABLE|           NULL|              0|                 0|             0|            1|             0|            0|        0|             ID CARD|            Texas|        UNLICENSED|   77033|\n",
      "|14838693|       1|       1|      DRIVER|        FRONT LEFT|         NOT INJURED|      52|         HISPANIC|        MALE|          NO|SHOULDER & LAP BELT|     NOT DEPLOYED|NOT APPLICABLE|          N|               BREATH|        Positive|             0.193|                 NONE|  NOT APPLICABLE|   NOT APPLICABLE|           NULL|              0|                 0|             0|            1|             0|            0|        0|      DRIVER LICENSE|            Texas|           CLASS C|   78564|\n",
      "|14838768|       1|       1|      DRIVER|        FRONT LEFT|         NOT INJURED|      20|            ASIAN|        MALE|          NO|SHOULDER & LAP BELT|DEPLOYED MULTIPLE|NOT APPLICABLE|          N|                 NONE|              NA|                NA|                 NONE|  NOT APPLICABLE|   NOT APPLICABLE|           NULL|              0|                 0|             0|            1|             0|            0|        0|      DRIVER LICENSE|       California|OTHER/OUT OF STATE|   77090|\n",
      "|14838768|       2|       1|      DRIVER|        FRONT LEFT|         NOT INJURED|      55|         HISPANIC|      FEMALE|          NO|SHOULDER & LAP BELT|     NOT DEPLOYED|NOT APPLICABLE|          N|                BLOOD|        Negative|                 0|                 NONE|  NOT APPLICABLE|   NOT APPLICABLE|           NULL|              0|                 0|             0|            1|             0|            0|        0|      DRIVER LICENSE|            Texas|           CLASS C|   77080|\n",
      "|14838834|       1|       1|      DRIVER|        FRONT LEFT|         NOT INJURED|      20|         HISPANIC|        MALE|          NO|            UNKNOWN|  DEPLOYED, FRONT|NOT APPLICABLE|          N|                 NONE|              NA|                NA|                 NONE|  NOT APPLICABLE|   NOT APPLICABLE|           NULL|              0|                 0|             0|            1|             0|            0|        0|             UNKNOWN|          Unknown|           UNKNOWN|   79107|\n",
      "|14838841|       1|       1|      DRIVER|        FRONT LEFT|         NOT INJURED|      25|         HISPANIC|      FEMALE|     UNKNOWN|            UNKNOWN|     NOT DEPLOYED|NOT APPLICABLE|          N|                 NONE|              NA|                NA|                 NONE|  NOT APPLICABLE|   NOT APPLICABLE|           NULL|              0|                 0|             0|            1|             0|            0|        0|      DRIVER LICENSE|            Texas|           CLASS C|   79412|\n",
      "|14838842|       1|       1|      DRIVER|        FRONT LEFT|         NOT INJURED|      41|         HISPANIC|      FEMALE|          NO|            UNKNOWN|     NOT DEPLOYED|NOT APPLICABLE|          N|                 NONE|              NA|                NA|                 NONE|  NOT APPLICABLE|   NOT APPLICABLE|           NULL|              0|                 0|             0|            1|             0|            0|        0|      DRIVER LICENSE|            Texas|           CLASS C|   79403|\n",
      "|14838842|       2|       1|      DRIVER|        FRONT LEFT|         NOT INJURED|      34|         HISPANIC|      FEMALE|          NO|SHOULDER & LAP BELT|     NOT DEPLOYED|NOT APPLICABLE|          N|                 NONE|              NA|                NA|                 NONE|  NOT APPLICABLE|   NOT APPLICABLE|           NULL|              0|                 0|             0|            1|             0|            0|        0|      DRIVER LICENSE|            Texas|           CLASS C|   79401|\n",
      "|14838866|       1|       1|      DRIVER|        FRONT LEFT|     POSSIBLE INJURY|      44|            WHITE|        MALE|          NO|SHOULDER & LAP BELT|  DEPLOYED, FRONT|NOT APPLICABLE|          N|                 NONE|              NA|                NA|                 NONE|  NOT APPLICABLE|   NOT APPLICABLE|           NULL|              0|                 0|             1|            0|             0|            1|        0|      DRIVER LICENSE|            Texas|           CLASS C|   76705|\n",
      "|14838877|       1|       1|      DRIVER|        FRONT LEFT|         NOT INJURED|      39|            WHITE|        MALE|          NO|               NONE|     NOT DEPLOYED|NOT APPLICABLE|          N|                BLOOD|        Positive|              0.21|                BLOOD|  NOT APPLICABLE|   NOT APPLICABLE|           NULL|              0|                 0|             0|            1|             0|            0|        0|      DRIVER LICENSE|            Texas|           CLASS C|   76247|\n",
      "|14838972|       1|       1|      DRIVER|        FRONT LEFT|         NOT INJURED|      59|            WHITE|        MALE|          NO|SHOULDER & LAP BELT|     NOT DEPLOYED|NOT APPLICABLE|          N|                 NONE|              NA|                NA|                 NONE|  NOT APPLICABLE|   NOT APPLICABLE|           NULL|              0|                 0|             0|            1|             0|            0|        0|      DRIVER LICENSE|            Texas|           CLASS C|   78578|\n",
      "+--------+--------+--------+------------+------------------+--------------------+--------+-----------------+------------+------------+-------------------+-----------------+--------------+-----------+---------------------+----------------+------------------+---------------------+----------------+-----------------+---------------+---------------+------------------+--------------+-------------+--------------+-------------+---------+--------------------+-----------------+------------------+--------+\n",
      "only showing top 20 rows\n",
      "\n"
     ]
    }
   ],
   "source": [
    "df_pp.show()"
   ]
  },
  {
   "cell_type": "code",
   "execution_count": 13,
   "id": "7456539e",
   "metadata": {},
   "outputs": [
    {
     "data": {
      "text/plain": [
       "['CRASH_ID',\n",
       " 'UNIT_NBR',\n",
       " 'PRSN_NBR',\n",
       " 'PRSN_TYPE_ID',\n",
       " 'PRSN_OCCPNT_POS_ID',\n",
       " 'PRSN_INJRY_SEV_ID',\n",
       " 'PRSN_AGE',\n",
       " 'PRSN_ETHNICITY_ID',\n",
       " 'PRSN_GNDR_ID',\n",
       " 'PRSN_EJCT_ID',\n",
       " 'PRSN_REST_ID',\n",
       " 'PRSN_AIRBAG_ID',\n",
       " 'PRSN_HELMET_ID',\n",
       " 'PRSN_SOL_FL',\n",
       " 'PRSN_ALC_SPEC_TYPE_ID',\n",
       " 'PRSN_ALC_RSLT_ID',\n",
       " 'PRSN_BAC_TEST_RSLT',\n",
       " 'PRSN_DRG_SPEC_TYPE_ID',\n",
       " 'PRSN_DRG_RSLT_ID',\n",
       " 'DRVR_DRG_CAT_1_ID',\n",
       " 'PRSN_DEATH_TIME',\n",
       " 'INCAP_INJRY_CNT',\n",
       " 'NONINCAP_INJRY_CNT',\n",
       " 'POSS_INJRY_CNT',\n",
       " 'NON_INJRY_CNT',\n",
       " 'UNKN_INJRY_CNT',\n",
       " 'TOT_INJRY_CNT',\n",
       " 'DEATH_CNT',\n",
       " 'DRVR_LIC_TYPE_ID',\n",
       " 'DRVR_LIC_STATE_ID',\n",
       " 'DRVR_LIC_CLS_ID',\n",
       " 'DRVR_ZIP']"
      ]
     },
     "execution_count": 13,
     "metadata": {},
     "output_type": "execute_result"
    }
   ],
   "source": [
    "df_pp.columns"
   ]
  },
  {
   "cell_type": "code",
   "execution_count": 14,
   "id": "e7729723",
   "metadata": {},
   "outputs": [
    {
     "data": {
      "text/plain": [
       "159852"
      ]
     },
     "execution_count": 14,
     "metadata": {},
     "output_type": "execute_result"
    }
   ],
   "source": [
    "df_restrict.count()"
   ]
  },
  {
   "cell_type": "code",
   "execution_count": 15,
   "id": "585a855c",
   "metadata": {},
   "outputs": [
    {
     "name": "stdout",
     "output_type": "stream",
     "text": [
      "+--------+--------+--------------------+\n",
      "|CRASH_ID|UNIT_NBR| DRVR_LIC_RESTRIC_ID|\n",
      "+--------+--------+--------------------+\n",
      "|14768622|       1|                NONE|\n",
      "|14838637|       1|  OTHER/OUT OF STATE|\n",
      "|14838637|       2|                NONE|\n",
      "|14838641|       1|WITH CORRECTIVE L...|\n",
      "|14838641|       2|          UNLICENSED|\n",
      "|14838668|       1|                NONE|\n",
      "|14838669|       1|                NONE|\n",
      "|14838669|       2|WITH CORRECTIVE L...|\n",
      "|14838670|       1|                NONE|\n",
      "|14838685|       1|          UNLICENSED|\n",
      "|14838693|       1|                NONE|\n",
      "|14838768|       1|  OTHER/OUT OF STATE|\n",
      "|14838768|       2|WITH CORRECTIVE L...|\n",
      "|14838834|       1|             UNKNOWN|\n",
      "|14838841|       1|WITH CORRECTIVE L...|\n",
      "|14838842|       1|                NONE|\n",
      "|14838842|       2|                NONE|\n",
      "|14838866|       1|                NONE|\n",
      "|14838877|       1|                NONE|\n",
      "|14838972|       1|                NONE|\n",
      "+--------+--------+--------------------+\n",
      "only showing top 20 rows\n",
      "\n"
     ]
    }
   ],
   "source": [
    "df_restrict.show()"
   ]
  },
  {
   "cell_type": "code",
   "execution_count": 16,
   "id": "e0c54bef",
   "metadata": {},
   "outputs": [
    {
     "data": {
      "text/plain": [
       "173499"
      ]
     },
     "execution_count": 16,
     "metadata": {},
     "output_type": "execute_result"
    }
   ],
   "source": [
    "df_Units.count()"
   ]
  },
  {
   "cell_type": "code",
   "execution_count": 17,
   "id": "b88e1495",
   "metadata": {},
   "outputs": [
    {
     "name": "stdout",
     "output_type": "stream",
     "text": [
      "+--------+--------+-------------+-------------+----------+----------------+-----------------+------------+------------+------------+---------------+--------------------+---------------+--------+-----------------+--------------------+--------------------+-----------------+--------------+--------------------+-----------------+--------------+------------------+--------------------+--------------------+--------------------+--------------------+--------------------+---------------+---------------------+---------------+------------------+--------------+-------------+--------------+-------------+---------+\n",
      "|CRASH_ID|UNIT_NBR| UNIT_DESC_ID|VEH_PARKED_FL|VEH_HNR_FL|VEH_LIC_STATE_ID|              VIN|VEH_MOD_YEAR|VEH_COLOR_ID| VEH_MAKE_ID|     VEH_MOD_ID|    VEH_BODY_STYL_ID|EMER_RESPNDR_FL|OWNR_ZIP|FIN_RESP_PROOF_ID|    FIN_RESP_TYPE_ID|  VEH_DMAG_AREA_1_ID|VEH_DMAG_SCL_1_ID|FORCE_DIR_1_ID|  VEH_DMAG_AREA_2_ID|VEH_DMAG_SCL_2_ID|FORCE_DIR_2_ID|VEH_INVENTORIED_FL|     VEH_TRANSP_NAME|     VEH_TRANSP_DEST|  CONTRIB_FACTR_1_ID|  CONTRIB_FACTR_2_ID| CONTRIB_FACTR_P1_ID|VEH_TRVL_DIR_ID|FIRST_HARM_EVT_INV_ID|INCAP_INJRY_CNT|NONINCAP_INJRY_CNT|POSS_INJRY_CNT|NON_INJRY_CNT|UNKN_INJRY_CNT|TOT_INJRY_CNT|DEATH_CNT|\n",
      "+--------+--------+-------------+-------------+----------+----------------+-----------------+------------+------------+------------+---------------+--------------------+---------------+--------+-----------------+--------------------+--------------------+-----------------+--------------+--------------------+-----------------+--------------+------------------+--------------------+--------------------+--------------------+--------------------+--------------------+---------------+---------------------+---------------+------------------+--------------+-------------+--------------+-------------+---------+\n",
      "|14768622|       1|MOTOR VEHICLE|            N|         N|              TX|4S2CK57D1X4381118|        1999|         GRY|       ISUZU|          AMIGO|PASSENGER CAR, 4-...|              Y|   77357|                2|                  NA|FRONT END DAMAGE ...|        DAMAGED 3|             1|LEFT SIDE AND TOP...|        DAMAGED 4|             3|                 Y|     VALENTIN TOWING|20288 FM 1314 POR...|UNDER INFLUENCE -...|                  NA|                  NA|           EAST|                    Y|              0|                 0|             0|            1|             0|            0|        0|\n",
      "|14838637|       1|MOTOR VEHICLE|            N|         N|              TX|WVWAN7AN6DE536582|          NA|         GRY|  VOLKSWAGEN|             CC|PASSENGER CAR, 4-...|              N|   13830|                1|PROOF OF LIABILIT...|FRONT END DAMAGE ...|        DAMAGED 3|            12|                  NA|               NA|            NA|                 N|          A-1 TOWING|    4710 ELLEN TROUT|   HAD BEEN DRINKING|                  NA|                  NA|          SOUTH|                    Y|              0|                 0|             0|            1|             0|            0|        0|\n",
      "|14838637|       2|MOTOR VEHICLE|            N|         N|              TX|1FUJA6CG24LM14889|        2004|         RED|FREIGHTLINER|             NA|               TRUCK|              N|   78934|                1|PROOF OF LIABILIT...|RIGHT SIDE DAMAGE...|        DAMAGED 2|             3|                  NA|               NA|            NA|                 N|         DRIVEN AWAY|           BY DRIVER|                NONE|                  NA|                  NA|          SOUTH|                    Y|              0|                 0|             0|            1|             0|            0|        0|\n",
      "|14838637|       2|MOTOR VEHICLE|            N|         N|              TX|1FUJA6CG24LM14889|        2004|         RED|FREIGHTLINER|             NA|               TRUCK|              N|   78934|                1|PROOF OF LIABILIT...|RIGHT SIDE DAMAGE...|        DAMAGED 2|             3|                  NA|               NA|            NA|                 N|         DRIVEN AWAY|           BY DRIVER|                NONE|                  NA|                  NA|          SOUTH|                    Y|              0|                 0|             0|            1|             0|            0|        0|\n",
      "|14838637|       3|TOWED/TRAILER|         NULL|      NULL|              NA|             NULL|          NA|          NA|          NA|             NA|                  NA|           NULL|   78934|               NA|                  NA|                  NA|               NA|            NA|                  NA|               NA|            NA|              NULL|                NULL|                NULL|                NONE|                  NA|                  NA| NOT APPLICABLE|                    N|              0|                 0|             0|            0|             0|            0|        0|\n",
      "|14838641|       1|MOTOR VEHICLE|            N|         N|              TX|JHMFA15896S005043|        2006|         GRY|       HONDA|          CIVIC|PASSENGER CAR, 4-...|              N|   76520|                1|PROOF OF LIABILIT...|FRONT END (RIGHT)...|        DAMAGED 3|             1|                  NA|               NA|            NA|                 N|            TOW KING|          7191 BAGBY|DISREGARD STOP AN...|  DRIVER INATTENTION|                  NA|      NORTHWEST|                    Y|              0|                 0|             1|            0|             0|            1|        0|\n",
      "|14838641|       2|MOTOR VEHICLE|            N|         N|              TX|1GNEC13R8YR146867|        2000|         BLK|   CHEVROLET|          TAHOE|SPORT UTILITY VEH...|              N|   76707|                1|PROOF OF LIABILIT...|LEFT SIDE AND TOP...|        DAMAGED 3|             9|                  NA|               NA|            NA|                 N|            TOW KING|          7191 BAGBY|                NONE|                  NA|                  NA|      SOUTHWEST|                    Y|              0|                 1|             0|            0|             0|            1|        0|\n",
      "|14838668|       1|MOTOR VEHICLE|            N|         N|              TX|JM1BK32F791214223|          NA|         BLK|       MAZDA|             NA|PASSENGER CAR, 4-...|              N|   78076|                2|                  NA|FRONT END DAMAGE ...|        DAMAGED 4|            12|                  NA|               NA|            NA|                 Y|     GARCIA'S TOWING|203 2ND ST, ZAPAT...|UNDER INFLUENCE -...|FAILED TO DRIVE I...|                  NA|      NORTHWEST|                    Y|              0|                 0|             0|            1|             0|            0|        0|\n",
      "|14838669|       1|MOTOR VEHICLE|            N|         N|              TX|1GCEC14X89Z178483|          NA|         WHI|   CHEVROLET|SILVERADO C1500|              PICKUP|              N|   76053|                1|LIABILITY INSURAN...|BACK END DAMAGE D...|        DAMAGED 2|             6|                  NA|               NA|            NA|                 N|         DRIVEN AWAY|           BY DRIVER|                NONE|                  NA|                  NA|           WEST|                    Y|              0|                 0|             0|            1|             0|            0|        0|\n",
      "|14838669|       2|MOTOR VEHICLE|            N|         N|              TX|JM1BL1SF9A1147727|          NA|         BLK|       MAZDA|             NA|PASSENGER CAR, 4-...|              N|   76118|                1|LIABILITY INSURAN...|FRONT END DAMAGE ...|        DAMAGED 3|            12|                  NA|               NA|            NA|                 Y|EULESS B & B WREC...|1201 W EULESS BLV...|FAILED TO CONTROL...|UNDER INFLUENCE -...|                  NA|           WEST|                    Y|              0|                 0|             0|            1|             0|            0|        0|\n",
      "|14838670|       1|MOTOR VEHICLE|            N|         N|              TX|1J4GL58K53W701914|        2003|         SIL|        JEEP|        LIBERTY|SPORT UTILITY VEH...|              N|   75050|                1|PROOF OF LIABILIT...|FRONT END (RIGHT)...|DAMAGED 1 MINIMUM|            12|FRONT END (LEFT) ...|        DAMAGED 2|            12|                 Y|EULESS B & B WREC...|1201 W EULESS BLV...|   HAD BEEN DRINKING|                  NA|                  NA|           EAST|                    Y|              0|                 0|             0|            1|             0|            0|        0|\n",
      "|14838670|       2|MOTOR VEHICLE|            Y|         N|              TX|JS2RA61S045207476|        2004|         GLD|      SUZUKI|          AERIO|PASSENGER CAR, 4-...|              N|   76040|                1|PROOF OF LIABILIT...|BACK END (LEFT) D...|        DAMAGED 2|             6|                  NA|               NA|            NA|                 N|     REMAINED PARKED|            BY OWNER|                NONE|                  NA|                  NA|           EAST|                    Y|              0|                 0|             0|            0|             0|            0|        0|\n",
      "|14838670|       3|MOTOR VEHICLE|            Y|         N|              TX|1FTEW1CM3CFC20128|          NA|         GRY|        FORD|           F150|              PICKUP|              N|   76180|                1|PROOF OF LIABILIT...|LEFT BACK QUARTER...|        DAMAGED 2|            11|                  NA|               NA|            NA|                 N|     REMAINED PARKED|            BY OWNER|                NONE|                  NA|                  NA|           WEST|                    N|              0|                 0|             0|            0|             0|            0|        0|\n",
      "|14838685|       1|MOTOR VEHICLE|            N|         N|              TX|1HGCG16522A035476|        2002|         RED|       HONDA|         ACCORD|PASSENGER CAR, 4-...|              N|   77084|                2|                  NA|FRONT END DAMAGE ...|        DAMAGED 3|            12|     TOP DAMAGE ONLY|        NO DAMAGE|            NA|                 N|          CHALLENGER|   8000 GALVESTON RD|FAILED TO DRIVE I...|                  NA|                  NA|      SOUTHWEST|                    Y|              0|                 0|             0|            1|             0|            0|        0|\n",
      "|14838693|       1|MOTOR VEHICLE|            N|         N|              TX|1GCJC33U24F229732|        2004|         WHI|   CHEVROLET|SILVERADO C3500|              PICKUP|              N|   78564|                1|PROOF OF LIABILIT...|LEFT SIDE DAMAGE ...|DAMAGED 1 MINIMUM|            11|RIGHT SIDE DAMAGE...|DAMAGED 1 MINIMUM|             1|                 Y|     GARCIA'S TOWING|203 2ND,  ZAPATA,...|UNDER INFLUENCE -...|FAILED TO DRIVE I...|DISABLED IN TRAFF...|      NORTHWEST|                    Y|              0|                 0|             0|            1|             0|            0|        0|\n",
      "|14838768|       1|MOTOR VEHICLE|            N|         N|              CA|2HNYD18814H543053|        2004|         SIL|       ACURA|            MDX|SPORT UTILITY VEH...|              N|   77090|                1|PROOF OF LIABILIT...|FRONT END (RIGHT)...|        DAMAGED 4|             2|                  NA|               NA|            NA|                 Y|           AJ TOWING|8288 VETERANS MEM...|                NONE|                  NA|                  NA|           EAST|                    Y|              0|                 0|             1|            1|             0|            1|        0|\n",
      "|14838768|       2|MOTOR VEHICLE|            N|         N|              TX|4T1BE46K97U049772|        2007|         SIL|      TOYOTA|          CAMRY|PASSENGER CAR, 4-...|              N|   77080|                2|                  NA|DISTRIBUTED RIGHT...|        DAMAGED 6|             3|                  NA|               NA|            NA|                 N|           SAFECLEAR|          36 TIDWELL|DISREGARD STOP AN...|   HAD BEEN DRINKING|                  NA|          SOUTH|                    Y|              0|                 0|             0|            1|             0|            0|        0|\n",
      "|14838834|       1|MOTOR VEHICLE|            N|         Y|              TX|5TFJV52167X002099|        2007|          99|      TOYOTA|         TUNDRA|              PICKUP|              N|   79107|                1|LIABILITY INSURAN...|FRONT END DAMAGE ...|        DAMAGED 4|            12|FRONT END DAMAGE ...|        DAMAGED 2|             1|                 Y|  COMPETITION TOWING|8409 I40 E, AMA, ...|FAILED TO CONTROL...|                  NA|                  NA|          SOUTH|                    Y|              0|                 0|             0|            1|             0|            0|        0|\n",
      "|14838834|       2|MOTOR VEHICLE|            Y|         N|              TX|1D8GU28K07W640397|        2007|         SIL|       DODGE|          NITRO|SPORT UTILITY VEH...|              N|   79107|                2|                  NA|BACK END DAMAGE D...|        DAMAGED 4|             6|RIGHT BACK QUARTE...|        DAMAGED 2|             4|                 N|                NULL|                NULL|                NONE|                  NA|                  NA|           EAST|                    Y|              0|                 0|             0|            0|             0|            0|        0|\n",
      "|14838834|       3|MOTOR VEHICLE|            Y|         N|              TX|1MELM62W9SH630933|        1995|         GRN|     MERCURY|         COUGAR|PASSENGER CAR, 2-...|              N|   79107|                2|                  NA|RIGHT BACK QUARTE...|        DAMAGED 3|             4|LEFT BACK QUARTER...|DAMAGED 1 MINIMUM|             8|                 N|                NULL|                NULL|                NONE|                  NA|                  NA|           EAST|                    N|              0|                 0|             0|            0|             0|            0|        0|\n",
      "+--------+--------+-------------+-------------+----------+----------------+-----------------+------------+------------+------------+---------------+--------------------+---------------+--------+-----------------+--------------------+--------------------+-----------------+--------------+--------------------+-----------------+--------------+------------------+--------------------+--------------------+--------------------+--------------------+--------------------+---------------+---------------------+---------------+------------------+--------------+-------------+--------------+-------------+---------+\n",
      "only showing top 20 rows\n",
      "\n"
     ]
    }
   ],
   "source": [
    "df_Units.show()"
   ]
  },
  {
   "cell_type": "code",
   "execution_count": 18,
   "id": "720cd9c1",
   "metadata": {},
   "outputs": [
    {
     "data": {
      "text/plain": [
       "['CRASH_ID',\n",
       " 'UNIT_NBR',\n",
       " 'UNIT_DESC_ID',\n",
       " 'VEH_PARKED_FL',\n",
       " 'VEH_HNR_FL',\n",
       " 'VEH_LIC_STATE_ID',\n",
       " 'VIN',\n",
       " 'VEH_MOD_YEAR',\n",
       " 'VEH_COLOR_ID',\n",
       " 'VEH_MAKE_ID',\n",
       " 'VEH_MOD_ID',\n",
       " 'VEH_BODY_STYL_ID',\n",
       " 'EMER_RESPNDR_FL',\n",
       " 'OWNR_ZIP',\n",
       " 'FIN_RESP_PROOF_ID',\n",
       " 'FIN_RESP_TYPE_ID',\n",
       " 'VEH_DMAG_AREA_1_ID',\n",
       " 'VEH_DMAG_SCL_1_ID',\n",
       " 'FORCE_DIR_1_ID',\n",
       " 'VEH_DMAG_AREA_2_ID',\n",
       " 'VEH_DMAG_SCL_2_ID',\n",
       " 'FORCE_DIR_2_ID',\n",
       " 'VEH_INVENTORIED_FL',\n",
       " 'VEH_TRANSP_NAME',\n",
       " 'VEH_TRANSP_DEST',\n",
       " 'CONTRIB_FACTR_1_ID',\n",
       " 'CONTRIB_FACTR_2_ID',\n",
       " 'CONTRIB_FACTR_P1_ID',\n",
       " 'VEH_TRVL_DIR_ID',\n",
       " 'FIRST_HARM_EVT_INV_ID',\n",
       " 'INCAP_INJRY_CNT',\n",
       " 'NONINCAP_INJRY_CNT',\n",
       " 'POSS_INJRY_CNT',\n",
       " 'NON_INJRY_CNT',\n",
       " 'UNKN_INJRY_CNT',\n",
       " 'TOT_INJRY_CNT',\n",
       " 'DEATH_CNT']"
      ]
     },
     "execution_count": 18,
     "metadata": {},
     "output_type": "execute_result"
    }
   ],
   "source": [
    "df_Units.columns"
   ]
  },
  {
   "cell_type": "code",
   "execution_count": 19,
   "id": "f022e5e0",
   "metadata": {},
   "outputs": [
    {
     "name": "stdout",
     "output_type": "stream",
     "text": [
      "Number of crashes with more than 2 males killed: 0\n"
     ]
    }
   ],
   "source": [
    "#Analytics_1\n",
    "#Filter the data to consider only male fatalities\n",
    "male_fatalities = df_pp.filter((col(\"PRSN_GNDR_ID\") == \"MALE\") & (col(\"PRSN_INJRY_SEV_ID\") == \"KILLED\"))\n",
    "\n",
    "# For each CRASH_ID and count the number of male fatalities\n",
    "male_fatalities_crash_count = male_fatalities.groupBy(\"CRASH_ID\").agg({\"CRASH_ID\": \"count\"}).withColumnRenamed(\"count(CRASH_ID)\", \"male_fatalities_count\")\n",
    "\n",
    "# Filter crashes where the number of male fatalities is greater than 2\n",
    "crashes_with_more_than_2_males_killed = male_fatalities_crash_count.filter(col(\"male_fatalities_count\") > 2)\n",
    "\n",
    "# Count the number of such crashes where male killed is more than 2\n",
    "total_crashes = crashes_with_more_than_2_males_killed.count()\n",
    "\n",
    "#result\n",
    "print(\"Number of crashes with more than 2 males killed:\", total_crashes)"
   ]
  },
  {
   "cell_type": "code",
   "execution_count": 20,
   "id": "bb09ccab",
   "metadata": {},
   "outputs": [
    {
     "name": "stdout",
     "output_type": "stream",
     "text": [
      "Number of two-wheelers involved in crashes: 784\n"
     ]
    }
   ],
   "source": [
    "#Analytics_2\n",
    "# Filter the data to consider only two-wheelers\n",
    "#two_wheelers = df_Units.filter(col(\"VEH_BODY_STYL_ID\") == \"MOTORCYCLE\")\n",
    "two_wheelers = df_Units.filter(col(\"VEH_BODY_STYL_ID\").contains(\"MOTORCYCLE\"))\n",
    "\n",
    "# Count the number of two-wheelers involved in crashes\n",
    "num_two_wheelers_in_crashes = two_wheelers.count()\n",
    "\n",
    "# Display the result\n",
    "print(\"Number of two-wheelers involved in crashes:\", num_two_wheelers_in_crashes)"
   ]
  },
  {
   "cell_type": "code",
   "execution_count": 21,
   "id": "4a9d32bb",
   "metadata": {},
   "outputs": [
    {
     "name": "stdout",
     "output_type": "stream",
     "text": [
      "+------------+\n",
      "| VEH_MAKE_ID|\n",
      "+------------+\n",
      "|   CHEVROLET|\n",
      "|        FORD|\n",
      "|       DODGE|\n",
      "|FREIGHTLINER|\n",
      "|      NISSAN|\n",
      "+------------+\n",
      "\n"
     ]
    }
   ],
   "source": [
    "#Analytics_3\n",
    "# Filter data for crashes where the driver died and airbags did not deploy\n",
    "filtered_data_3 = df_pp.filter((F.col(\"DEATH_CNT\") > 0) & (F.col(\"PRSN_AIRBAG_ID\") == \"NOT DEPLOYED\"))\n",
    "\n",
    "# Join with df_Units to get vehicle information\n",
    "joined_data_3 = filtered_data_3.join(df_Units, \"CRASH_ID\", \"inner\")\n",
    "\n",
    "# Group by vehicle make and count the occurrences\n",
    "make_counts = joined_data_3.groupBy(\"VEH_MAKE_ID\").count()\n",
    "\n",
    "# Order by count in descending order\n",
    "sorted_make_counts = make_counts.orderBy(F.desc(\"count\"))\n",
    "\n",
    "# Select the top 5 vehicle makes and filter out \"NA\"\n",
    "top_5_makes = sorted_make_counts.filter(sorted_make_counts.VEH_MAKE_ID != \"NA\").limit(5).select(\"VEH_MAKE_ID\")\n",
    "\n",
    "# Display the result\n",
    "top_5_makes.show()\n"
   ]
  },
  {
   "cell_type": "code",
   "execution_count": 22,
   "id": "141c947e",
   "metadata": {},
   "outputs": [
    {
     "name": "stdout",
     "output_type": "stream",
     "text": [
      "Number of vehicles with drivers having valid licenses involved in hit and run: 25\n"
     ]
    }
   ],
   "source": [
    "#Analytics_4\n",
    "# Filter relevant data for hit and run incidents\n",
    "hit_and_run_df = df_charges.filter((F.col(\"CHARGE\") == \"HIT AND RUN\") & (F.col(\"UNIT_NBR\").isNotNull()))\n",
    "\n",
    "# Join with the Units DataFrame to get information about the driver's license\n",
    "joined_df_4 = hit_and_run_df.join(df_pp, on=['CRASH_ID', 'UNIT_NBR'], how='inner')\n",
    "\n",
    "# Filter for vehicles with drivers having valid licenses\n",
    "valid_license_df = joined_df_4.filter(F.col(\"DRVR_LIC_TYPE_ID\").isNotNull())\n",
    "\n",
    "# Count the number of vehicles\n",
    "result_count = valid_license_df.select('CRASH_ID', 'UNIT_NBR').distinct().count()\n",
    "\n",
    "print(\"Number of vehicles with drivers having valid licenses involved in hit and run:\", result_count)"
   ]
  },
  {
   "cell_type": "code",
   "execution_count": 23,
   "id": "dda0025c",
   "metadata": {},
   "outputs": [
    {
     "name": "stdout",
     "output_type": "stream",
     "text": [
      "State with the highest number of accidents without females: TX\n"
     ]
    }
   ],
   "source": [
    "#Analytics_5\n",
    "# Join relevant DataFrames (df_pp, df_Units, etc.) on the common key (CRASH_ID)\n",
    "joined_df_5 = df_pp.join(df_Units, on=['CRASH_ID', 'UNIT_NBR'], how='inner')\n",
    "\n",
    "# Filter for accidents where females are not involved\n",
    "accidents_without_females = joined_df_5.filter(F.col(\"PRSN_GNDR_ID\") != 'Female')\n",
    "\n",
    "# Group by state and count the number of accidents\n",
    "state_accident_counts = accidents_without_females.groupBy(\"VEH_LIC_STATE_ID\").count()\n",
    "\n",
    "# Find the state with the highest number of accidents\n",
    "max_accident_state = state_accident_counts.orderBy(F.desc(\"count\")).first()[\"VEH_LIC_STATE_ID\"]\n",
    "\n",
    "print(\"State with the highest number of accidents without females:\", max_accident_state)"
   ]
  },
  {
   "cell_type": "code",
   "execution_count": 24,
   "id": "e89b8140",
   "metadata": {},
   "outputs": [
    {
     "name": "stdout",
     "output_type": "stream",
     "text": [
      "+-----------+\n",
      "|VEH_MAKE_ID|\n",
      "+-----------+\n",
      "|     TOYOTA|\n",
      "|      DODGE|\n",
      "|     NISSAN|\n",
      "+-----------+\n",
      "\n"
     ]
    }
   ],
   "source": [
    "#Analytics_6\n",
    "# Group by VEH_MAKE_ID and calculate the total injury count\n",
    "injury_counts = df_Units.groupBy(\"VEH_MAKE_ID\").agg(\n",
    "    F.sum(\"TOT_INJRY_CNT\").alias(\"TOTAL_INJURY_COUNT\"),\n",
    "    F.sum(\"DEATH_CNT\").alias(\"DEATH_COUNT\")\n",
    ")\n",
    "\n",
    "# Calculate the total injury count including death\n",
    "injury_counts = injury_counts.withColumn(\n",
    "    \"TOTAL_INJURY_COUNT_INCLUDING_DEATH\",\n",
    "    F.col(\"TOTAL_INJURY_COUNT\") + F.col(\"DEATH_COUNT\")\n",
    ")\n",
    "\n",
    "# Rank the VEH_MAKE_IDs based on the total injury count including death\n",
    "window_spec = Window.orderBy(F.desc(\"TOTAL_INJURY_COUNT_INCLUDING_DEATH\"))\n",
    "\n",
    "injury_ranking = injury_counts.withColumn(\n",
    "    \"rank\",\n",
    "    F.rank().over(window_spec)\n",
    ")\n",
    "\n",
    "# Filter for the top 3rd to 5th VEH_MAKE_IDs\n",
    "result = injury_ranking.filter((F.col(\"rank\") >= 3) & (F.col(\"rank\") <= 5)).select(\"VEH_MAKE_ID\")\n",
    "\n",
    "# Show the result\n",
    "result.show()\n"
   ]
  },
  {
   "cell_type": "code",
   "execution_count": 25,
   "id": "1f1e53f7",
   "metadata": {},
   "outputs": [
    {
     "name": "stdout",
     "output_type": "stream",
     "text": [
      "+---------------------------------+-----------------+\n",
      "|VEH_BODY_STYL_ID                 |PRSN_ETHNICITY_ID|\n",
      "+---------------------------------+-----------------+\n",
      "|AMBULANCE                        |WHITE            |\n",
      "|BUS                              |HISPANIC         |\n",
      "|FARM EQUIPMENT                   |WHITE            |\n",
      "|FIRE TRUCK                       |WHITE            |\n",
      "|MOTORCYCLE                       |WHITE            |\n",
      "|NEV-NEIGHBORHOOD ELECTRIC VEHICLE|WHITE            |\n",
      "|OTHER  (EXPLAIN IN NARRATIVE)    |WHITE            |\n",
      "|PASSENGER CAR, 2-DOOR            |WHITE            |\n",
      "|PASSENGER CAR, 4-DOOR            |WHITE            |\n",
      "|PICKUP                           |WHITE            |\n",
      "|POLICE CAR/TRUCK                 |WHITE            |\n",
      "|POLICE MOTORCYCLE                |HISPANIC         |\n",
      "|SPORT UTILITY VEHICLE            |WHITE            |\n",
      "|TRUCK                            |WHITE            |\n",
      "|TRUCK TRACTOR                    |WHITE            |\n",
      "|VAN                              |WHITE            |\n",
      "|YELLOW SCHOOL BUS                |WHITE            |\n",
      "+---------------------------------+-----------------+\n",
      "\n"
     ]
    }
   ],
   "source": [
    "#Analytics_7\n",
    "# Select relevant columns\n",
    "df_pp_selected = df_pp.select(\n",
    "    \"CRASH_ID\", \"PRSN_ETHNICITY_ID\"\n",
    ")\n",
    "\n",
    "df_Units_selected = df_Units.select(\n",
    "    \"CRASH_ID\", \"VEH_BODY_STYL_ID\"\n",
    ")\n",
    "\n",
    "# Join df_Units and df_pp on CRASH_ID\n",
    "joined_df_7 = df_Units_selected.join(df_pp_selected, \"CRASH_ID\")\n",
    "\n",
    "# Filter out undesired values in VEH_BODY_STYL_ID\n",
    "filtered_joined_df_7 = joined_df_7.filter(\n",
    "    ~joined_df_7.VEH_BODY_STYL_ID.isin(\"NA\", \"NOT REPORTED\", \"OTHER\", \"UNKNOWN\")\n",
    ")\n",
    "\n",
    "# Group by VEH_BODY_STYL_ID and PRSN_ETHNICITY_ID, calculate the count\n",
    "grouped_df_7 = filtered_joined_df_7.groupBy(\"VEH_BODY_STYL_ID\", \"PRSN_ETHNICITY_ID\").agg(\n",
    "    F.count(\"PRSN_ETHNICITY_ID\").alias(\"ethnicity_count\")\n",
    ")\n",
    "\n",
    "# Rank the ethnic groups within each body style based on the count\n",
    "window_spec = Window.partitionBy(\"VEH_BODY_STYL_ID\").orderBy(F.desc(\"ethnicity_count\"))\n",
    "\n",
    "ranked_df = grouped_df_7.withColumn(\n",
    "    \"rank\",\n",
    "    F.rank().over(window_spec)\n",
    ")\n",
    "\n",
    "# Select the top ethnic group for each body style\n",
    "result = ranked_df.filter(F.col(\"rank\") == 1).select(\"VEH_BODY_STYL_ID\", \"PRSN_ETHNICITY_ID\")\n",
    "\n",
    "# Show the result\n",
    "result.show(truncate=False)\n"
   ]
  },
  {
   "cell_type": "code",
   "execution_count": 26,
   "id": "3515a410",
   "metadata": {},
   "outputs": [
    {
     "name": "stdout",
     "output_type": "stream",
     "text": [
      "+--------+\n",
      "|DRVR_ZIP|\n",
      "+--------+\n",
      "|78521   |\n",
      "|76010   |\n",
      "|79936   |\n",
      "|79938   |\n",
      "|79907   |\n",
      "+--------+\n",
      "\n"
     ]
    }
   ],
   "source": [
    "#Analytics_8\n",
    "# Select relevant columns\n",
    "df_selected_8 = df_pp.select(\"CRASH_ID\", \"DRVR_ZIP\", \"PRSN_ALC_RSLT_ID\")\n",
    "\n",
    "# Filter rows where alcohol is a contributing factor\n",
    "df_filtered_8 = df_selected_8.filter(F.col(\"PRSN_ALC_RSLT_ID\") == \"Positive\")\n",
    "\n",
    "# Filter out rows with null values in DRVR_ZIP\n",
    "df_filtered_8 = df_filtered_8.filter(df_filtered_8.DRVR_ZIP.isNotNull())\n",
    "\n",
    "# Group by driver's zip code and count the number of crashes\n",
    "zip_code_counts = df_filtered_8.groupBy(\"DRVR_ZIP\").agg(\n",
    "    F.count(\"CRASH_ID\").alias(\"crash_count\")\n",
    ")\n",
    "\n",
    "# Sort the result in descending order and select the top 5 zip codes\n",
    "top_zip_codes = zip_code_counts.sort(F.desc(\"crash_count\")).limit(5).select(\"DRVR_ZIP\")\n",
    "\n",
    "# Show the result\n",
    "top_zip_codes.show(truncate=False)\n"
   ]
  },
  {
   "cell_type": "code",
   "execution_count": 27,
   "id": "208267e3",
   "metadata": {},
   "outputs": [
    {
     "name": "stdout",
     "output_type": "stream",
     "text": [
      "Count of Distinct Crash IDs where there is no damage of property: 0\n"
     ]
    }
   ],
   "source": [
    "#Analytics_9\n",
    "# Select relevant columns from df_damages\n",
    "df_damages_selected = df_damages.select(\"CRASH_ID\", \"DAMAGED_PROPERTY\")\n",
    "\n",
    "# Select relevant columns from df_Units\n",
    "df_units_selected = df_Units.select(\"CRASH_ID\", \"VEH_DMAG_SCL_1_ID\", \"FIN_RESP_PROOF_ID\")\n",
    "\n",
    "# Join dataframes on CRASH_ID\n",
    "joined_df_9 = df_damages_selected.join(df_units_selected, \"CRASH_ID\", \"inner\")\n",
    "\n",
    "# Filter based on the conditions\n",
    "filtered_df_9 = joined_df_9.filter(\n",
    "    (F.col(\"DAMAGED_PROPERTY\").isNull()) &  # No damaged property observed\n",
    "    (F.col(\"VEH_DMAG_SCL_1_ID\").isin('DAMAGED 5', 'DAMAGED 7 HIGHEST', 'DAMAGED 6')) &  # Damage level above 4\n",
    "    (F.col(\"FIN_RESP_PROOF_ID\").like('%INSURANCE%'))  # Car has insurance\n",
    ")\n",
    "\n",
    "# Count distinct Crash IDs\n",
    "distinct_crash_count = filtered_df_9.select(\"CRASH_ID\").distinct().count()\n",
    "\n",
    "# Show the result\n",
    "print(f\"Count of Distinct Crash IDs where there is no damage of property: {distinct_crash_count}\")"
   ]
  },
  {
   "cell_type": "code",
   "execution_count": 28,
   "id": "98b84153",
   "metadata": {},
   "outputs": [
    {
     "name": "stdout",
     "output_type": "stream",
     "text": [
      "+-----------------+------+\n",
      "|DRVR_LIC_STATE_ID|count |\n",
      "+-----------------+------+\n",
      "|Texas            |136335|\n",
      "|Mexico           |1007  |\n",
      "|Louisiana        |752   |\n",
      "|New Mexico       |699   |\n",
      "|California       |596   |\n",
      "|Florida          |544   |\n",
      "|Oklahoma         |512   |\n",
      "|Arkansas         |344   |\n",
      "|Arizona          |256   |\n",
      "|Georgia          |247   |\n",
      "|Colorado         |203   |\n",
      "|Illinois         |196   |\n",
      "|Tennessee        |182   |\n",
      "|Missouri         |181   |\n",
      "|Mississippi      |180   |\n",
      "|North Carolina   |161   |\n",
      "|Kansas           |141   |\n",
      "|Alabama          |135   |\n",
      "|Michigan         |132   |\n",
      "|Washington       |127   |\n",
      "|Ohio             |119   |\n",
      "|New York         |114   |\n",
      "|Virginia         |108   |\n",
      "|South Carolina   |101   |\n",
      "|Pennsylvania     |88    |\n",
      "+-----------------+------+\n",
      "\n"
     ]
    }
   ],
   "source": [
    "#To get TOP_STATES\n",
    "#Filter out rows with \"NA\", \"Other\", or \"Unknown\" in \"DRVR_LIC_STATE_ID\"\n",
    "filtered_df_pp = df_pp.filter((df_pp.DRVR_LIC_STATE_ID.isNotNull()) & \n",
    "                              (df_pp.DRVR_LIC_STATE_ID != \"NA\") & \n",
    "                              (df_pp.DRVR_LIC_STATE_ID != \"Other\") & \n",
    "                              (df_pp.DRVR_LIC_STATE_ID != \"Unknown\"))\n",
    "\n",
    "# Group by \"DRVR_LIC_STATE_ID\", count occurrences, order by count in descending order, limit to top 25\n",
    "state_counts = (\n",
    "    filtered_df_pp\n",
    "    .groupBy(\"DRVR_LIC_STATE_ID\")\n",
    "    .agg(F.count(\"*\").alias(\"count\"))\n",
    "    .orderBy(F.desc(\"count\"))\n",
    "    .limit(25)\n",
    ")\n",
    "\n",
    "# Set the configuration parameter for eager evaluation to display more rows\n",
    "spark.conf.set(\"spark.sql.repl.eagerEval.enabled\", True)\n",
    "\n",
    "# Display the result\n",
    "state_counts.show(25,truncate=False)"
   ]
  },
  {
   "cell_type": "code",
   "execution_count": 29,
   "id": "675ee69f",
   "metadata": {},
   "outputs": [
    {
     "name": "stdout",
     "output_type": "stream",
     "text": [
      "+------------+\n",
      "|VEH_COLOR_ID|\n",
      "+------------+\n",
      "|         WHI|\n",
      "|         BLK|\n",
      "|         SIL|\n",
      "|         GRY|\n",
      "|         BLU|\n",
      "|         RED|\n",
      "|         GRN|\n",
      "|         MAR|\n",
      "|         TAN|\n",
      "|         GLD|\n",
      "+------------+\n",
      "\n"
     ]
    }
   ],
   "source": [
    "#TO GET TOP_COLORS\n",
    "filtered_df_Units = df_Units.filter((df_Units.VEH_COLOR_ID.isNotNull()) & \n",
    "                              (df_Units.VEH_COLOR_ID != \"NA\") )\n",
    "\n",
    "# Group by \"VEH_COLOR_ID\", count occurrences, order by count in descending order, limit to top 10\n",
    "color_counts = (\n",
    "    filtered_df_Units\n",
    "    .groupBy(\"VEH_COLOR_ID\")\n",
    "    .agg(F.count(\"*\").alias(\"count\"))\n",
    "    .orderBy(F.desc(\"count\"))\n",
    "    .limit(10)\n",
    ")\n",
    "\n",
    "# Select only the \"VEH_COLOR_ID\" column from the result\n",
    "top_colors = color_counts.select(\"VEH_COLOR_ID\")#.rdd.flatMap(lambda x: x).collect()\n",
    "\n",
    "# Display the result\n",
    "#top_colors.show(truncate=False)\n",
    "top_colors.show()"
   ]
  },
  {
   "cell_type": "code",
   "execution_count": 30,
   "id": "ae615fde",
   "metadata": {},
   "outputs": [
    {
     "name": "stdout",
     "output_type": "stream",
     "text": [
      "+-----------+\n",
      "|VEH_MAKE_ID|\n",
      "+-----------+\n",
      "|FORD       |\n",
      "|CHEVROLET  |\n",
      "|TOYOTA     |\n",
      "|DODGE      |\n",
      "|NISSAN     |\n",
      "+-----------+\n",
      "\n"
     ]
    }
   ],
   "source": [
    "#Analytics_10\n",
    "# Filter relevant columns for each dataframe\n",
    "df_charges_filtered_10 = df_charges.select(\"CRASH_ID\", \"UNIT_NBR\", \"PRSN_NBR\", \"CHARGE\")\n",
    "df_pp_filtered_10 = df_pp.select(\"CRASH_ID\", \"UNIT_NBR\", \"DRVR_LIC_STATE_ID\")\n",
    "df_Units_filtered_10 = df_Units.select(\"CRASH_ID\", \"VEH_MAKE_ID\", \"VEH_COLOR_ID\", \"VEH_LIC_STATE_ID\")\n",
    "\n",
    "# Define your top_colors and top_states manually as lists\n",
    "top_colors = [\"WHI\", \"BLK\", \"SIL\", \"GRY\", \"BLU\", \"RED\", \"GRN\", \"MAR\", \"TAN\", \"GLD\"]\n",
    "top_states = [\"Texas\", \"Mexico\", \"Louisiana\", \"New Mexico\", \"California\", \"Florida\", \"Oklahoma\", \"Arkansas\", \"Arizona\", \"Georgia\", \"Colorado\", \"Illinois\", \"Tennessee\", \"Missouri\", \"Mississippi\", \"North Carolina\", \"Kansas\", \"Alabama\", \"Michigan\", \"Washington\", \"Ohio\", \"New York\", \"Virginia\", \"South Carolina\", \"Pennsylvania\"]\n",
    "\n",
    "# Filter data based on conditions using provided lists\n",
    "filtered_data_10 = df_charges_filtered_10.join(df_pp_filtered_10, on=\"CRASH_ID\", how=\"inner\") \\\n",
    "    .join(df_Units_filtered_10, on=\"CRASH_ID\", how=\"inner\") \\\n",
    "    .filter((F.col(\"CHARGE\").contains(\"SPEED\")) &\n",
    "            (F.col(\"DRVR_LIC_STATE_ID\").isin(top_states)) &\n",
    "            (F.col(\"VEH_COLOR_ID\").isin(top_colors)))\n",
    "\n",
    "# Count the occurrences of each vehicle make\n",
    "top_vehicle_makes = filtered_data_10.groupBy(\"VEH_MAKE_ID\").count().orderBy(F.desc(\"count\")).limit(5).select(\"VEH_MAKE_ID\")\n",
    "\n",
    "# Show the result\n",
    "top_vehicle_makes.show(truncate=False)\n"
   ]
  },
  {
   "cell_type": "code",
   "execution_count": null,
   "id": "24f1504c",
   "metadata": {},
   "outputs": [],
   "source": []
  }
 ],
 "metadata": {
  "kernelspec": {
   "display_name": "Python 3 (ipykernel)",
   "language": "python",
   "name": "python3"
  },
  "language_info": {
   "codemirror_mode": {
    "name": "ipython",
    "version": 3
   },
   "file_extension": ".py",
   "mimetype": "text/x-python",
   "name": "python",
   "nbconvert_exporter": "python",
   "pygments_lexer": "ipython3",
   "version": "3.10.13"
  }
 },
 "nbformat": 4,
 "nbformat_minor": 5
}
